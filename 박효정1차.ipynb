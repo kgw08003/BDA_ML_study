{
 "cells": [
  {
   "cell_type": "markdown",
   "id": "f76c0367",
   "metadata": {},
   "source": [
    "### 참고\n",
    "\n",
    "https://www.kaggle.com/code/robikscube/tutorial-time-series-forecasting-with-xgboost/notebook\n",
    "    \n",
    "https://github.com/ykpgrr/Price-Prediction-with-Random-Forest/blob/master/Bitcoin%20Price%20Prediction%20with%20Scikit-Learn%20using%20Random%20Forest.ipynb"
   ]
  },
  {
   "cell_type": "code",
   "execution_count": null,
   "id": "c4b15d47",
   "metadata": {
    "scrolled": true
   },
   "outputs": [],
   "source": [
    "import pandas as pd\n",
    "import numpy as np\n",
    "import matplotlib.pyplot as plt\n",
    "\n",
    "import warnings\n",
    "warnings.filterwarnings(\"ignore\")\n",
    "\n",
    "df = pd.read_csv('bitstampUSD_1-min_data_2012-01-01_to_2021-03-31.csv')\n",
    "df"
   ]
  },
  {
   "cell_type": "code",
   "execution_count": null,
   "id": "ef79e253",
   "metadata": {
    "scrolled": false
   },
   "outputs": [],
   "source": [
    "# unixtimestamp 변환\n",
    "df['Timestamp'] = pd.to_datetime(df['Timestamp'], unit='s')\n",
    "\n",
    "# 결측치 채우기 : method = 'ffill' : 결측값을 바로 위 값과 동일하게 변경\n",
    "\n",
    "df = df.fillna(method='ffill')\n",
    "df.head()"
   ]
  },
  {
   "cell_type": "code",
   "execution_count": null,
   "id": "39f1f6ae",
   "metadata": {
    "scrolled": false
   },
   "outputs": [],
   "source": [
    "# 2017년 3월부터 2021년 3월까지 데이터 필터링\n",
    "\n",
    "filtered_data = df[df['Timestamp'].between('2017-03-01','2021-03-31')]\n",
    "filtered_data = df.set_index('Timestamp')\n",
    "filtered_data"
   ]
  },
  {
   "cell_type": "code",
   "execution_count": null,
   "id": "07c5407c",
   "metadata": {
    "scrolled": false
   },
   "outputs": [],
   "source": [
    "filtered_data.info()"
   ]
  },
  {
   "cell_type": "code",
   "execution_count": null,
   "id": "ead742e5",
   "metadata": {
    "scrolled": true
   },
   "outputs": [],
   "source": [
    "# 연도별 price 시각화\n",
    "_ = filtered_data['Weighted_Price'].plot(style='', figsize=(10,5),color='red', label='Weighted_Price')\n",
    "plt.xlabel('Timestamp')\n",
    "plt.title('연도별 Weighted_Price')\n",
    "plt.legend()\n",
    "plt.show()"
   ]
  },
  {
   "cell_type": "markdown",
   "id": "e4273590",
   "metadata": {},
   "source": [
    "### 데이터셋 구분\n",
    "\n",
    "2020년도 이전을 학습 데이터로, 2020년도 이후를 예측 데이터로 사용하고자 함"
   ]
  },
  {
   "cell_type": "code",
   "execution_count": null,
   "id": "2f43af36",
   "metadata": {},
   "outputs": [],
   "source": [
    "# 데이터셋 구분\n",
    "\n",
    "split_date = pd.to_datetime('2020-03-01')\n",
    "train = filtered_data.loc[filtered_data.index < split_date].copy()\n",
    "test = filtered_data.loc[filtered_data.index >= split_date].copy()"
   ]
  },
  {
   "cell_type": "code",
   "execution_count": null,
   "id": "3fed70b8",
   "metadata": {},
   "outputs": [],
   "source": [
    "from sklearn.ensemble import RandomForestRegressor\n",
    "from sklearn.model_selection import train_test_split\n",
    "\n",
    "# 피처, 타겟으로 데이터 분리\n",
    "\n",
    "features = train.drop('Weighted_Price', axis=1)\n",
    "target = train['Weighted_Price']\n",
    "\n",
    "X_train, X_test, y_train, y_test = train_test_split(features,\n",
    "                                                   target,\n",
    "                                                   test_size=0.2,\n",
    "                                                   random_state=42)\n",
    "\n",
    "# 랜덤 포레스트 모델 학습시키기\n",
    "rf = RandomForestRegressor(n_estimators=1000, random_state=5)\n",
    "rf.fit(X_train, np.ravel(y_train))\n",
    "predictions = rf.predict(X_test)"
   ]
  },
  {
   "cell_type": "code",
   "execution_count": null,
   "id": "59c50185",
   "metadata": {},
   "outputs": [],
   "source": [
    "# 결과 데이터프레임\n",
    "\n",
    "Result = pd.DataFrame(y_test, index= X_test.index, columns=['NEXT_CLOSE'])\n",
    "Result['Predicted'] = predictions\n",
    "Result = Redult.sort_values('Timestamp')\n",
    "Result.head()"
   ]
  },
  {
   "cell_type": "code",
   "execution_count": null,
   "id": "179b2666",
   "metadata": {},
   "outputs": [],
   "source": [
    "# 예측 결과 시각화\n",
    "\n",
    "plt.figure(figsize=(10,5))\n",
    "ax = plt.gca()\n",
    "\n",
    "plt.plot(Result['NEXT_CLOSE'], color= 'r', label='Real BTC Price')\n",
    "plt.plot(Result['Predicted'], color='b', label= 'Predicted BTC Price')\n",
    "plt.title('BTC Price prediction')\n",
    "plt.xlabel('Time')\n",
    "plt.legend()\n",
    "plt.show()"
   ]
  }
 ],
 "metadata": {
  "kernelspec": {
   "display_name": "Python 3 (ipykernel)",
   "language": "python",
   "name": "python3"
  },
  "language_info": {
   "codemirror_mode": {
    "name": "ipython",
    "version": 3
   },
   "file_extension": ".py",
   "mimetype": "text/x-python",
   "name": "python",
   "nbconvert_exporter": "python",
   "pygments_lexer": "ipython3",
   "version": "3.10.9"
  }
 },
 "nbformat": 4,
 "nbformat_minor": 5
}
